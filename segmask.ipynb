{
  "cells": [
    {
      "cell_type": "code",
      "execution_count": null,
      "metadata": {
        "colab": {
          "base_uri": "https://localhost:8080/"
        },
        "id": "jWBbHX7biTLr",
        "outputId": "ec527838-10b6-4c66-9ef7-487153fa2ddd"
      },
      "outputs": [
        {
          "output_type": "stream",
          "name": "stdout",
          "text": [
            "Mounted at /content/drive/\n"
          ]
        }
      ],
      "source": [
        "from google.colab import drive\n",
        "drive.mount('/content/drive/', force_remount=True)"
      ]
    },
    {
      "cell_type": "code",
      "execution_count": null,
      "metadata": {
        "id": "0QxDhuxsiac9"
      },
      "outputs": [],
      "source": [
        "import os\n",
        "\n",
        "# Specify the path where you want to create the folder\n",
        "folder_path = '/content/drive/My Drive/mask'\n",
        "\n",
        "# Create the folder\n",
        "os.makedirs(folder_path, exist_ok=True)"
      ]
    },
    {
      "cell_type": "code",
      "execution_count": null,
      "metadata": {
        "id": "gWR3sp_dibNe"
      },
      "outputs": [],
      "source": [
        "cd '/content/drive/My Drive/mask/'"
      ]
    },
    {
      "cell_type": "code",
      "execution_count": null,
      "metadata": {
        "id": "5_a0fFckieOf"
      },
      "outputs": [],
      "source": [
        "!git clone https://github.com/TracelessLe/FaceParsing.PyTorch.git"
      ]
    },
    {
      "cell_type": "code",
      "execution_count": null,
      "metadata": {
        "colab": {
          "base_uri": "https://localhost:8080/"
        },
        "id": "1xATVK7RigLN",
        "outputId": "70d375f8-aee9-4d54-e8b6-256a1c3eac6c"
      },
      "outputs": [
        {
          "output_type": "stream",
          "name": "stdout",
          "text": [
            "/content/drive/My Drive/mask/FaceParsing.PyTorch\n"
          ]
        }
      ],
      "source": [
        "cd '/content/drive/My Drive/mask/FaceParsing.PyTorch/'"
      ]
    },
    {
      "cell_type": "code",
      "execution_count": null,
      "metadata": {
        "id": "c11n-UsBiiG3"
      },
      "outputs": [],
      "source": [
        "import os\n",
        "folder_path = '/content/drive/My Drive/mask/FaceParsing.PyTorch/models/FaceParseNet50/'\n",
        "\n",
        "# Create the folder\n",
        "os.makedirs(folder_path, exist_ok=True)"
      ]
    },
    {
      "cell_type": "markdown",
      "metadata": {
        "id": "wM2VcmjZmndq"
      },
      "source": [
        "In /content/drive/My Drive/mask/FaceParsing.PyTorch/models/FaceParseNet50/ path"
      ]
    },
    {
      "cell_type": "markdown",
      "source": [
        "download https://drive.google.com/file/d/1neFVTZCWZcCeIoYA7V3i1Kk3DqaK4iei/view and place it"
      ],
      "metadata": {
        "id": "sjWOZpDnkk6K"
      }
    },
    {
      "cell_type": "code",
      "execution_count": null,
      "metadata": {
        "id": "i6D8XDYcjx8c"
      },
      "outputs": [],
      "source": [
        "ls"
      ]
    },
    {
      "cell_type": "code",
      "execution_count": null,
      "metadata": {
        "colab": {
          "base_uri": "https://localhost:8080/"
        },
        "id": "by9498LRinXI",
        "outputId": "c9a9e867-e44c-4cb4-e321-43096e88911b"
      },
      "outputs": [
        {
          "output_type": "stream",
          "name": "stdout",
          "text": [
            "Collecting inplace-abn\n",
            "  Downloading inplace-abn-1.1.0.tar.gz (137 kB)\n",
            "\u001b[?25l     \u001b[90m━━━━━━━━━━━━━━━━━━━━━━━━━━━━━━━━━━━━━━━━\u001b[0m \u001b[32m0.0/137.3 kB\u001b[0m \u001b[31m?\u001b[0m eta \u001b[36m-:--:--\u001b[0m\r\u001b[2K     \u001b[91m━━━━━━━━\u001b[0m\u001b[91m╸\u001b[0m\u001b[90m━━━━━━━━━━━━━━━━━━━━━━━━━━━━━━━\u001b[0m \u001b[32m30.7/137.3 kB\u001b[0m \u001b[31m1.3 MB/s\u001b[0m eta \u001b[36m0:00:01\u001b[0m\r\u001b[2K     \u001b[91m━━━━━━━━━━━━━━━━━━━━━━━\u001b[0m\u001b[91m╸\u001b[0m\u001b[90m━━━━━━━━━━━━━━━━\u001b[0m \u001b[32m81.9/137.3 kB\u001b[0m \u001b[31m1.3 MB/s\u001b[0m eta \u001b[36m0:00:01\u001b[0m\r\u001b[2K     \u001b[90m━━━━━━━━━━━━━━━━━━━━━━━━━━━━━━━━━━━━━━━━\u001b[0m \u001b[32m137.3/137.3 kB\u001b[0m \u001b[31m1.5 MB/s\u001b[0m eta \u001b[36m0:00:00\u001b[0m\n",
            "\u001b[?25h  Preparing metadata (setup.py) ... \u001b[?25l\u001b[?25hdone\n",
            "Building wheels for collected packages: inplace-abn\n",
            "  Building wheel for inplace-abn (setup.py) ... \u001b[?25l\u001b[?25hdone\n",
            "  Created wheel for inplace-abn: filename=inplace_abn-1.1.0-cp310-cp310-linux_x86_64.whl size=4199520 sha256=436593f20a821a267414ee07dc25e238b94ab1f52830a0752874d65b450a0352\n",
            "  Stored in directory: /root/.cache/pip/wheels/c7/f2/05/97ab74dbf2ed6d592684f76d0ae8f33f66bbafa0ec5b53b416\n",
            "Successfully built inplace-abn\n",
            "Installing collected packages: inplace-abn\n",
            "Successfully installed inplace-abn-1.1.0\n"
          ]
        }
      ],
      "source": [
        "pip install inplace-abn"
      ]
    },
    {
      "cell_type": "code",
      "execution_count": null,
      "metadata": {
        "colab": {
          "base_uri": "https://localhost:8080/"
        },
        "id": "UBPcFGDhk3mu",
        "outputId": "e2ae2ee6-7c7f-4269-c31f-d55f861ad9c1"
      },
      "outputs": [
        {
          "output_type": "stream",
          "name": "stdout",
          "text": [
            "Collecting tensorboardX\n",
            "  Downloading tensorboardX-2.6.2.2-py2.py3-none-any.whl (101 kB)\n",
            "\u001b[?25l     \u001b[90m━━━━━━━━━━━━━━━━━━━━━━━━━━━━━━━━━━━━━━━━\u001b[0m \u001b[32m0.0/101.7 kB\u001b[0m \u001b[31m?\u001b[0m eta \u001b[36m-:--:--\u001b[0m\r\u001b[2K     \u001b[91m━━━━━━━━━━━━━━━━\u001b[0m\u001b[90m╺\u001b[0m\u001b[90m━━━━━━━━━━━━━━━━━━━━━━━\u001b[0m \u001b[32m41.0/101.7 kB\u001b[0m \u001b[31m967.0 kB/s\u001b[0m eta \u001b[36m0:00:01\u001b[0m\r\u001b[2K     \u001b[90m━━━━━━━━━━━━━━━━━━━━━━━━━━━━━━━━━━━━━━━━\u001b[0m \u001b[32m101.7/101.7 kB\u001b[0m \u001b[31m1.4 MB/s\u001b[0m eta \u001b[36m0:00:00\u001b[0m\n",
            "\u001b[?25hRequirement already satisfied: numpy in /usr/local/lib/python3.10/dist-packages (from tensorboardX) (1.25.2)\n",
            "Requirement already satisfied: packaging in /usr/local/lib/python3.10/dist-packages (from tensorboardX) (24.0)\n",
            "Requirement already satisfied: protobuf>=3.20 in /usr/local/lib/python3.10/dist-packages (from tensorboardX) (3.20.3)\n",
            "Installing collected packages: tensorboardX\n",
            "Successfully installed tensorboardX-2.6.2.2\n"
          ]
        }
      ],
      "source": [
        "pip install tensorboardX"
      ]
    },
    {
      "cell_type": "code",
      "execution_count": null,
      "metadata": {
        "colab": {
          "base_uri": "https://localhost:8080/"
        },
        "id": "oMwGrDp4xmR4",
        "outputId": "1ecba393-05ee-48e8-faaf-cfbe847b782f"
      },
      "outputs": [
        {
          "name": "stdout",
          "output_type": "stream",
          "text": [
            "augmentations.py     generate_color.py  main.py        \u001b[0m\u001b[01;34m__pycache__\u001b[0m/     run_test.sh   utils.py\n",
            "criterion.py         generate.py        metrics.py     README.md        run_train.sh  verifier.py\n",
            "data_loader.py       \u001b[01;34mimage\u001b[0m/             \u001b[01;34mmodels\u001b[0m/        \u001b[01;34mresult\u001b[0m/          \u001b[01;34msamples\u001b[0m/\n",
            "\u001b[01;34mData_preprocessing\u001b[0m/  LICENSE            \u001b[01;34mnetworks\u001b[0m/      \u001b[01;34mresult_colored\u001b[0m/  tester.py\n",
            "\u001b[01;34mdeployment\u001b[0m/          lr_scheduler.py    parameters.py  result.png       trainer.py\n"
          ]
        }
      ],
      "source": [
        "ls"
      ]
    },
    {
      "cell_type": "markdown",
      "metadata": {
        "id": "gAyoIGNomQRg"
      },
      "source": [
        "Create folders image, result, result_colored in FaceParsing.PyTorch folder"
      ]
    },
    {
      "cell_type": "markdown",
      "metadata": {
        "id": "bpbH4nP4mivl"
      },
      "source": [
        "Copy generate.py from https://github.com/MithunKarthikRR/CollaborativeDiffusion_Childnet/blob/main/generate.py in FaceParsing.PyTorch folder"
      ]
    },
    {
      "cell_type": "code",
      "execution_count": null,
      "metadata": {
        "colab": {
          "base_uri": "https://localhost:8080/"
        },
        "id": "AhxqTBoTxvUF",
        "outputId": "7027c40e-042c-44c6-f07d-4b17b3c1fc26"
      },
      "outputs": [
        {
          "output_type": "stream",
          "name": "stdout",
          "text": [
            "Model loaded\n",
            "Preprocessing done\n",
            "Face Parsing done\n",
            "File added in FaceParsing.PyTorch/result/\n"
          ]
        }
      ],
      "source": [
        "!python generate.py --src_path /content/drive/MyDrive/mask/FaceParsing.PyTorch/image/3.jpg"
      ]
    }
  ],
  "metadata": {
    "colab": {
      "provenance": [],
      "gpuType": "T4"
    },
    "kernelspec": {
      "display_name": "Python 3",
      "name": "python3"
    },
    "language_info": {
      "name": "python"
    },
    "accelerator": "GPU"
  },
  "nbformat": 4,
  "nbformat_minor": 0
}